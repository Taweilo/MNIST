{
  "nbformat": 4,
  "nbformat_minor": 0,
  "metadata": {
    "colab": {
      "provenance": [],
      "gpuType": "T4",
      "authorship_tag": "ABX9TyPYvA+pzDkAWznU/+rS5WAM",
      "include_colab_link": true
    },
    "kernelspec": {
      "name": "python3",
      "display_name": "Python 3"
    },
    "language_info": {
      "name": "python"
    },
    "accelerator": "GPU"
  },
  "cells": [
    {
      "cell_type": "markdown",
      "metadata": {
        "id": "view-in-github",
        "colab_type": "text"
      },
      "source": [
        "<a href=\"https://colab.research.google.com/github/Taweilo/MNIST/blob/main/MNIST_project_development.ipynb\" target=\"_parent\"><img src=\"https://colab.research.google.com/assets/colab-badge.svg\" alt=\"Open In Colab\"/></a>"
      ]
    },
    {
      "cell_type": "markdown",
      "source": [
        "# MNIST Data checking"
      ],
      "metadata": {
        "id": "nbu7hdVR4iBn"
      }
    },
    {
      "cell_type": "code",
      "source": [
        "import matplotlib.pyplot as plt\n",
        "from keras.datasets import mnist\n",
        "\n",
        "# Load MNIST data\n",
        "(x_train, y_train), (x_test, y_test) = mnist.load_data()\n",
        "\n",
        "# Select an example image from the training dataset\n",
        "index = 0  # Choose an example index (e.g., the first image)\n",
        "\n",
        "# Get the image and label\n",
        "image = x_train[index]\n",
        "label = y_train[index]\n",
        "\n",
        "# Plot the image\n",
        "plt.imshow(image, cmap='gray')  # Use 'gray' colormap to display grayscale image\n",
        "plt.title(f\"Label: {label}\")    # Set the title to show the label of the image\n",
        "plt.axis('off')                # Hide the axes for better visualization\n",
        "plt.show()"
      ],
      "metadata": {
        "id": "VPO7Vzqc4hZ7"
      },
      "execution_count": null,
      "outputs": []
    },
    {
      "cell_type": "markdown",
      "source": [
        "# MNIST Model"
      ],
      "metadata": {
        "id": "xAovUX2F4c2-"
      }
    },
    {
      "cell_type": "code",
      "execution_count": null,
      "metadata": {
        "colab": {
          "base_uri": "https://localhost:8080/"
        },
        "id": "eHZHbUv2dqXd",
        "outputId": "9227a74a-109c-42c7-ed3a-93854b4c1832"
      },
      "outputs": [
        {
          "output_type": "stream",
          "name": "stdout",
          "text": [
            "Epoch 1/10\n",
            "\u001b[1m1500/1500\u001b[0m \u001b[32m━━━━━━━━━━━━━━━━━━━━\u001b[0m\u001b[37m\u001b[0m \u001b[1m53s\u001b[0m 34ms/step - accuracy: 0.8960 - loss: 0.3323 - val_accuracy: 0.9852 - val_loss: 0.0523\n",
            "Epoch 2/10\n",
            "\u001b[1m1500/1500\u001b[0m \u001b[32m━━━━━━━━━━━━━━━━━━━━\u001b[0m\u001b[37m\u001b[0m \u001b[1m80s\u001b[0m 33ms/step - accuracy: 0.9854 - loss: 0.0456 - val_accuracy: 0.9872 - val_loss: 0.0462\n",
            "Epoch 3/10\n",
            "\u001b[1m1500/1500\u001b[0m \u001b[32m━━━━━━━━━━━━━━━━━━━━\u001b[0m\u001b[37m\u001b[0m \u001b[1m80s\u001b[0m 32ms/step - accuracy: 0.9900 - loss: 0.0293 - val_accuracy: 0.9892 - val_loss: 0.0357\n",
            "Epoch 4/10\n",
            "\u001b[1m1500/1500\u001b[0m \u001b[32m━━━━━━━━━━━━━━━━━━━━\u001b[0m\u001b[37m\u001b[0m \u001b[1m82s\u001b[0m 32ms/step - accuracy: 0.9934 - loss: 0.0193 - val_accuracy: 0.9877 - val_loss: 0.0449\n",
            "Epoch 5/10\n",
            "\u001b[1m1500/1500\u001b[0m \u001b[32m━━━━━━━━━━━━━━━━━━━━\u001b[0m\u001b[37m\u001b[0m \u001b[1m83s\u001b[0m 33ms/step - accuracy: 0.9948 - loss: 0.0156 - val_accuracy: 0.9890 - val_loss: 0.0363\n",
            "Epoch 6/10\n",
            "\u001b[1m1500/1500\u001b[0m \u001b[32m━━━━━━━━━━━━━━━━━━━━\u001b[0m\u001b[37m\u001b[0m \u001b[1m82s\u001b[0m 33ms/step - accuracy: 0.9963 - loss: 0.0116 - val_accuracy: 0.9884 - val_loss: 0.0478\n",
            "Epoch 7/10\n",
            "\u001b[1m1500/1500\u001b[0m \u001b[32m━━━━━━━━━━━━━━━━━━━━\u001b[0m\u001b[37m\u001b[0m \u001b[1m48s\u001b[0m 32ms/step - accuracy: 0.9966 - loss: 0.0103 - val_accuracy: 0.9897 - val_loss: 0.0406\n",
            "Epoch 8/10\n",
            "\u001b[1m1500/1500\u001b[0m \u001b[32m━━━━━━━━━━━━━━━━━━━━\u001b[0m\u001b[37m\u001b[0m \u001b[1m82s\u001b[0m 32ms/step - accuracy: 0.9976 - loss: 0.0069 - val_accuracy: 0.9887 - val_loss: 0.0464\n",
            "Epoch 9/10\n",
            "\u001b[1m1500/1500\u001b[0m \u001b[32m━━━━━━━━━━━━━━━━━━━━\u001b[0m\u001b[37m\u001b[0m \u001b[1m84s\u001b[0m 33ms/step - accuracy: 0.9974 - loss: 0.0070 - val_accuracy: 0.9907 - val_loss: 0.0416\n",
            "Epoch 10/10\n",
            "\u001b[1m1500/1500\u001b[0m \u001b[32m━━━━━━━━━━━━━━━━━━━━\u001b[0m\u001b[37m\u001b[0m \u001b[1m82s\u001b[0m 33ms/step - accuracy: 0.9980 - loss: 0.0064 - val_accuracy: 0.9901 - val_loss: 0.0500\n"
          ]
        },
        {
          "output_type": "stream",
          "name": "stderr",
          "text": [
            "WARNING:absl:You are saving your model as an HDF5 file via `model.save()` or `keras.saving.save_model(model)`. This file format is considered legacy. We recommend using instead the native Keras format, e.g. `model.save('my_model.keras')` or `keras.saving.save_model(model, 'my_model.keras')`. \n"
          ]
        }
      ],
      "source": [
        "from tensorflow.keras.models import Sequential\n",
        "from tensorflow.keras.layers import Conv2D, MaxPooling2D, Flatten, Dense, Input\n",
        "from tensorflow.keras.datasets import mnist\n",
        "from tensorflow.keras.utils import to_categorical\n",
        "from sklearn.model_selection import train_test_split\n",
        "\n",
        "# Load and preprocess data\n",
        "(x_train, y_train), (x_test, y_test) = mnist.load_data()\n",
        "x_train = x_train.astype(\"float32\") / 255.0\n",
        "x_test = x_test.astype(\"float32\") / 255.0\n",
        "x_train = x_train.reshape(-1, 28, 28, 1)\n",
        "x_test = x_test.reshape(-1, 28, 28, 1)\n",
        "y_train = to_categorical(y_train, num_classes=10)\n",
        "y_test = to_categorical(y_test, num_classes=10)\n",
        "x_train, x_val, y_train, y_val = train_test_split(x_train, y_train, test_size=0.2, random_state=42)\n",
        "\n",
        "# Define the model\n",
        "def create_model():\n",
        "    model = Sequential([\n",
        "        Input(shape=(28, 28, 1)),\n",
        "        Conv2D(32, (3, 3), activation='relu'),\n",
        "        MaxPooling2D((2, 2)),\n",
        "        Conv2D(64, (3, 3), activation='relu'),\n",
        "        MaxPooling2D((2, 2)),\n",
        "        Flatten(),\n",
        "        Dense(128, activation='relu'),\n",
        "        Dense(10, activation='softmax')\n",
        "    ])\n",
        "    model.compile(optimizer='adam', loss='categorical_crossentropy', metrics=['accuracy'])\n",
        "    return model\n",
        "\n",
        "# Train the model\n",
        "model = create_model()\n",
        "model.fit(x_train, y_train, epochs=10, validation_data=(x_val, y_val))\n",
        "\n",
        "# Save the model\n",
        "model.save(\"mnist_cnn_model.h5\")"
      ]
    },
    {
      "cell_type": "code",
      "source": [
        "from google.colab import files\n",
        "\n",
        "# Download the saved model file\n",
        "files.download(\"mnist_cnn_model.h5\")"
      ],
      "metadata": {
        "colab": {
          "base_uri": "https://localhost:8080/"
        },
        "id": "RPPPho4Md5cy",
        "outputId": "d3dc0d8d-11f0-4aa1-aa5e-7744f5b7c5a1"
      },
      "execution_count": null,
      "outputs": [
        {
          "output_type": "display_data",
          "data": {
            "text/plain": [
              "<IPython.core.display.Javascript object>"
            ],
            "application/javascript": [
              "\n",
              "    async function download(id, filename, size) {\n",
              "      if (!google.colab.kernel.accessAllowed) {\n",
              "        return;\n",
              "      }\n",
              "      const div = document.createElement('div');\n",
              "      const label = document.createElement('label');\n",
              "      label.textContent = `Downloading \"${filename}\": `;\n",
              "      div.appendChild(label);\n",
              "      const progress = document.createElement('progress');\n",
              "      progress.max = size;\n",
              "      div.appendChild(progress);\n",
              "      document.body.appendChild(div);\n",
              "\n",
              "      const buffers = [];\n",
              "      let downloaded = 0;\n",
              "\n",
              "      const channel = await google.colab.kernel.comms.open(id);\n",
              "      // Send a message to notify the kernel that we're ready.\n",
              "      channel.send({})\n",
              "\n",
              "      for await (const message of channel.messages) {\n",
              "        // Send a message to notify the kernel that we're ready.\n",
              "        channel.send({})\n",
              "        if (message.buffers) {\n",
              "          for (const buffer of message.buffers) {\n",
              "            buffers.push(buffer);\n",
              "            downloaded += buffer.byteLength;\n",
              "            progress.value = downloaded;\n",
              "          }\n",
              "        }\n",
              "      }\n",
              "      const blob = new Blob(buffers, {type: 'application/binary'});\n",
              "      const a = document.createElement('a');\n",
              "      a.href = window.URL.createObjectURL(blob);\n",
              "      a.download = filename;\n",
              "      div.appendChild(a);\n",
              "      a.click();\n",
              "      div.remove();\n",
              "    }\n",
              "  "
            ]
          },
          "metadata": {}
        },
        {
          "output_type": "display_data",
          "data": {
            "text/plain": [
              "<IPython.core.display.Javascript object>"
            ],
            "application/javascript": [
              "download(\"download_d1358bc0-0e33-48f8-9ca1-93f8b1cf2570\", \"mnist_cnn_model.h5\", 2740160)"
            ]
          },
          "metadata": {}
        }
      ]
    },
    {
      "cell_type": "markdown",
      "source": [
        "# Uplaod picture for checking"
      ],
      "metadata": {
        "id": "A3vXb3Js4b60"
      }
    },
    {
      "cell_type": "code",
      "source": [
        "from tensorflow.keras.models import load_model\n",
        "from PIL import Image, ImageOps\n",
        "import numpy as np\n",
        "from google.colab import files\n",
        "import matplotlib.pyplot as plt\n",
        "\n",
        "# Load the pre-trained model\n",
        "model = load_model(\"mnist_cnn_model.h5\")\n",
        "\n",
        "# Function to predict the digit\n",
        "def predict_digit(image_path):\n",
        "    # Load and preprocess the input image\n",
        "    img = Image.open(image_path)     # Open the image\n",
        "    img = ImageOps.grayscale(img)    # Convert to grayscale\n",
        "    img = ImageOps.invert(img)       # Invert colors\n",
        "    img = img.resize((28, 28))       # Resize to 28x28\n",
        "    img = np.array(img) / 255.0      # Normalize pixel values to [0, 1]\n",
        "    img = img.reshape(-1, 28, 28, 1)  # Reshape to match model input\n",
        "\n",
        "    # Get model prediction\n",
        "    pred = model.predict(img)\n",
        "    predicted_digit = np.argmax(pred)  # Get the digit with the highest probability\n",
        "\n",
        "    return predicted_digit\n",
        "\n",
        "# Upload an image\n",
        "uploaded = files.upload()\n",
        "\n",
        "# Predict the digit for the uploaded image\n",
        "for filename in uploaded.keys():\n",
        "    print(f\"Processing file: {filename}\")\n",
        "    predicted_digit = predict_digit(filename)\n",
        "    print(f\"Predicted Digit: {predicted_digit}\")\n",
        "\n",
        "    # Display the uploaded image\n",
        "    img = Image.open(filename)\n",
        "    plt.imshow(img, cmap=\"gray\")\n",
        "    plt.title(f\"Predicted Digit: {predicted_digit}\")\n",
        "    plt.axis(\"off\")\n",
        "    plt.show()"
      ],
      "metadata": {
        "id": "CPDvZ9GH4vK0"
      },
      "execution_count": null,
      "outputs": []
    },
    {
      "cell_type": "markdown",
      "source": [
        "# Dashboard development"
      ],
      "metadata": {
        "id": "nWnEr6Hk490G"
      }
    },
    {
      "cell_type": "code",
      "source": [
        "!pip install gradio"
      ],
      "metadata": {
        "id": "9vImnA1F48tS"
      },
      "execution_count": null,
      "outputs": []
    },
    {
      "cell_type": "code",
      "source": [
        "import gradio as gr\n",
        "\n",
        "# Function that processes the input image and returns it\n",
        "def process_image(sketchpad):\n",
        "    return sketchpad  # Simply return the image without modification\n",
        "\n",
        "gr.Interface(fn=process_image, inputs=\"sketchpad\", outputs=\"sketchpad\").launch(debug=True)"
      ],
      "metadata": {
        "id": "3G4ksL2C5Lzg"
      },
      "execution_count": null,
      "outputs": []
    },
    {
      "cell_type": "code",
      "source": [
        "from PIL import Image\n",
        "import numpy as np\n",
        "\n",
        "\n",
        "# Load the pre-trained model\n",
        "model = load_model(\"mnist_cnn_model.h5\")\n",
        "\n",
        "# Function to predict the digit\n",
        "def predict_digit(sketchpad):\n",
        "    if sketchpad is not None:\n",
        "        # Convert sketchpad data to an image\n",
        "        #print(sketchpad)\n",
        "        #image = sketchpad.get('composite')\n",
        "        #print(\"Data Type:\", type(image))\n",
        "        #print(\"Shape:\", image.shape)\n",
        "        pil_image = Image.fromarray(sketchpad['composite'])\n",
        "        grayscale_image = pil_image.convert(\"L\")  # \"L\" mode is for grayscale\n",
        "\n",
        "        return grayscale_image\n",
        "\n",
        "# Create the Gradio interface\n",
        "gr.Interface(\n",
        "    fn=predict_digit,\n",
        "    inputs=\"sketchpad\",\n",
        "    outputs=\"image\"\n",
        ").launch(debug=True)"
      ],
      "metadata": {
        "id": "d1KGZRtG5OOH"
      },
      "execution_count": null,
      "outputs": []
    },
    {
      "cell_type": "code",
      "source": [
        "from PIL import Image, ImageOps\n",
        "import numpy as np\n",
        "from tensorflow.keras.models import load_model\n",
        "import gradio as gr\n",
        "\n",
        "# Load the pre-trained model\n",
        "model = load_model(\"mnist_cnn_model.h5\")\n",
        "\n",
        "# Function to predict the digit\n",
        "def predict_digit(sketchpad):\n",
        "    if sketchpad is not None:\n",
        "        # Extract sketchpad data and convert it to a PIL Image\n",
        "        image_data = sketchpad['composite']\n",
        "        pil_image = Image.fromarray(image_data)\n",
        "\n",
        "        # Fill transparent background with white\n",
        "        if pil_image.mode == \"RGBA\":  # If the image has an alpha channel\n",
        "            white_background = Image.new(\"RGBA\", pil_image.size, (255, 255, 255, 255))\n",
        "            pil_image = Image.alpha_composite(white_background, pil_image)\n",
        "            pil_image = pil_image.convert(\"RGB\")  # Remove the alpha channel\n",
        "\n",
        "        # Convert to grayscale\n",
        "        grayscale_image = pil_image.convert(\"L\")\n",
        "\n",
        "        return grayscale_image\n",
        "\n",
        "\n",
        "# Create the Gradio interface\n",
        "gr.Interface(\n",
        "    fn=predict_digit,\n",
        "    inputs=\"sketchpad\",\n",
        "    outputs=\"image\"\n",
        ").launch(debug=True)"
      ],
      "metadata": {
        "id": "MDE_Ysx25QjY"
      },
      "execution_count": null,
      "outputs": []
    },
    {
      "cell_type": "code",
      "source": [
        "from PIL import Image, ImageOps\n",
        "import numpy as np\n",
        "from tensorflow.keras.models import load_model\n",
        "import gradio as gr\n",
        "\n",
        "# Load the pre-trained model\n",
        "model = load_model(\"mnist_cnn_model.h5\")\n",
        "\n",
        "# Function to predict the digit\n",
        "def predict_digit(sketchpad):\n",
        "    if sketchpad is not None:\n",
        "        # Extract sketchpad data and convert it to a PIL Image\n",
        "        image_data = sketchpad['composite']\n",
        "        pil_image = Image.fromarray(image_data)\n",
        "\n",
        "        # Fill transparent background with white\n",
        "        if pil_image.mode == \"RGBA\":  # If the image has an alpha channel\n",
        "            white_background = Image.new(\"RGBA\", pil_image.size, (255, 255, 255, 255))\n",
        "            pil_image = Image.alpha_composite(white_background, pil_image)\n",
        "            pil_image = pil_image.convert(\"RGB\")  # Remove the alpha channel\n",
        "\n",
        "        # Convert to grayscale\n",
        "        grayscale_image = pil_image.convert(\"L\")\n",
        "        img = ImageOps.invert(grayscale_image)       # Invert colors\n",
        "\n",
        "\n",
        "        return img\n",
        "\n",
        "\n",
        "# Create the Gradio interface\n",
        "gr.Interface(\n",
        "    fn=predict_digit,\n",
        "    inputs=\"sketchpad\",\n",
        "    outputs=\"image\"\n",
        ").launch(debug=True)"
      ],
      "metadata": {
        "id": "7fB9u2LG5TK-"
      },
      "execution_count": null,
      "outputs": []
    },
    {
      "cell_type": "code",
      "source": [
        "from PIL import Image, ImageOps\n",
        "import numpy as np\n",
        "from tensorflow.keras.models import load_model\n",
        "import gradio as gr\n",
        "\n",
        "# Load the pre-trained model\n",
        "model = load_model(\"mnist_cnn_model.h5\")\n",
        "\n",
        "# Function to predict the digit\n",
        "def predict_digit(sketchpad):\n",
        "    if sketchpad is not None:\n",
        "        # Extract sketchpad data and convert it to a PIL Image\n",
        "        image_data = sketchpad['composite']\n",
        "        pil_image = Image.fromarray(image_data)\n",
        "\n",
        "        # Fill transparent background with white\n",
        "        if pil_image.mode == \"RGBA\":  # If the image has an alpha channel\n",
        "            white_background = Image.new(\"RGBA\", pil_image.size, (255, 255, 255, 255))\n",
        "            pil_image = Image.alpha_composite(white_background, pil_image)\n",
        "            pil_image = pil_image.convert(\"RGB\")  # Remove the alpha channel\n",
        "\n",
        "        # Convert to grayscale\n",
        "        grayscale_image = pil_image.convert(\"L\")\n",
        "        img = ImageOps.invert(grayscale_image)       # Invert colors\n",
        "        img = img.resize((28, 28))       # Resize to 28x28\n",
        "        img = np.array(img) / 255.0      # Normalize pixel values to [0, 1]\n",
        "        img = img.reshape(-1, 28, 28, 1)  # Reshape to match model input\n",
        "\n",
        "        # Get model prediction\n",
        "        pred = model.predict(img)\n",
        "        predicted_digit = np.argmax(pred)  # Get the digit with the highest probability\n",
        "\n",
        "        return f\"Predicted Digit: {predicted_digit}\"\n",
        "\n",
        "\n",
        "# Create the Gradio interface\n",
        "gr.Interface(\n",
        "    fn=predict_digit,\n",
        "    inputs=\"sketchpad\",\n",
        "    outputs=\"text\"\n",
        ").launch(debug=True)"
      ],
      "metadata": {
        "id": "ttbHEFRi5V33"
      },
      "execution_count": null,
      "outputs": []
    }
  ]
}